{
 "cells": [
  {
   "cell_type": "markdown",
   "metadata": {},
   "source": [
    "# Scrapping Data"
   ]
  },
  {
   "cell_type": "markdown",
   "metadata": {},
   "source": [
    "Scrapping data is where you are extracting data from an online platform. There are several aways to do data scrapping and they all boil up to 2 type:\n",
    "\n",
    "                           1. Using APIs to get access to the data from the database\n",
    "                           2. Viewing the source code of the platform (Read website)\n",
    "\n",
    "Let me explain each a bit\n",
    "\n",
    "###                                                                           1. Using APIs\n",
    "\n",
    "* Here the online platform you are planning to access happens to have a gateway to access the data for developers who wish to access their data for learning purposes or creation of new solutins. \n",
    "\n",
    "* The companies give this leeway to developers so that they can increase user traffic or get new innovative solutions they can take to their users. \n",
    "\n",
    "###                                                             2. Extracting platform sorce code\n",
    "\n",
    "* Here you are just taking the html code of a website and parsing it to get the data you want.\n",
    "\n",
    "* This is a little tough if you have more than 1 websites to scrap data from. Escpecially when the developers ar different and have different syntax of coding.\n",
    "\n"
   ]
  },
  {
   "cell_type": "markdown",
   "metadata": {},
   "source": [
    "### Scrapping Tweeter\n",
    "\n",
    "* Here we will be using APIs to access twitter data. \n",
    "* Twitter provides several APIs to access different kinds of data. To use this APIs you need to acquire some access tokens and keys for authentication purposes hence why you need an approved twitter developer account.\n",
    "* To work with the twitter APIs there several libraries you use.I have used 2 of them which are:\n",
    "                1. Tweepy\n",
    "                2. GetOldTweets3\n",
    "* The reason I worked with both is because each has a particular limitation that make the work hard to gather the kind of data you are looking for.\n",
    "* For Tweepy the limitation are:\n",
    "                1. You can only get data from the last 30 days\n",
    "                2. You can't get more than 300 tweets per query hence you need to query for 300 and wait for 15 minutes   before you query again.\n",
    "* For GetOldTweets3 the limitations are:\n",
    "                1. Though you are able to get a lot of tweets and old ones, there are specific attributes you can't get   from the tweet objects you return."
   ]
  },
  {
   "cell_type": "markdown",
   "metadata": {},
   "source": [
    "***Import Libraries to use***"
   ]
  },
  {
   "cell_type": "code",
   "execution_count": 2,
   "metadata": {},
   "outputs": [],
   "source": [
    "# Import Tweeter APIs\n",
    "import tweepy as tp\n",
    "import GetOldTweets3 as got\n",
    "\n",
    "# Import libraries for data reading\n",
    "import pandas as pd\n",
    "\n",
    "#For reading secured access code and tokens file\n",
    "import yaml"
   ]
  },
  {
   "cell_type": "markdown",
   "metadata": {},
   "source": [
    "***Read access codes and Tokens to authenticate the twitter API***"
   ]
  },
  {
   "cell_type": "code",
   "execution_count": 3,
   "metadata": {},
   "outputs": [],
   "source": [
    "#Twitter API access token and consumer key with their authentication code read from a yaml file.\n",
    "# Keep the secret keys private and not public\n",
    "with open(r\"secret.yml\") as file:\n",
    "    secret_list = yaml.load(file, Loader=yaml.FullLoader)\n",
    "    \n",
    "#Access the Twitter API\n",
    "auth = tp.OAuthHandler(secret_list[\"consumer_key\"], secret_list[\"consumer_secret\"])\n",
    "auth.set_access_token(secret_list[\"access_token\"], secret_list[\"access_secret\"])\n",
    "api = tp.API(auth, wait_on_rate_limit=True)"
   ]
  },
  {
   "cell_type": "markdown",
   "metadata": {},
   "source": [
    "***Set up tweet query with GetOldTweets3***"
   ]
  },
  {
   "cell_type": "code",
   "execution_count": 4,
   "metadata": {},
   "outputs": [],
   "source": [
    "tweet_query = \"@AIRTEL_KE\"\n",
    "count = 200000"
   ]
  },
  {
   "cell_type": "code",
   "execution_count": null,
   "metadata": {},
   "outputs": [],
   "source": [
    "#Set the criteria for searching the tweets\n",
    "tweetCriteria = got.manager.TweetCriteria().setQuerySearch(tweet_query)\\\n",
    "                                            .setSince(\"2020-01-01\")\n",
    "\n",
    "#Query for the tweets\n",
    "tweets = got.manager.TweetManager.getTweets(tweetCriteria)\n"
   ]
  },
  {
   "cell_type": "code",
   "execution_count": null,
   "metadata": {},
   "outputs": [],
   "source": [
    "# Create a list holding lists with tweet details we want\n",
    "tweets_lst = [[tw.id, tw.date, tw.text, tw.username, tw.retweets, tw.favorites, tw.geo, tw.mentions, tw.hashtags] for tw in tweets]"
   ]
  },
  {
   "cell_type": "code",
   "execution_count": null,
   "metadata": {},
   "outputs": [],
   "source": [
    "# Confirm that we received the number of tweets requested\n",
    "len(tweets_lst)"
   ]
  },
  {
   "cell_type": "code",
   "execution_count": null,
   "metadata": {},
   "outputs": [],
   "source": [
    "# Create a dataframe of the tweets we queried\n",
    "tweets_df = pd.DataFrame(tweets_lst, columns=[\"ID\", \"Date\", \"Post\", \"Username\",\"Retweets\", \"Favorites\", \"Geo\", \"Mentions\", \"Hashtags\"])\n",
    "tweets_df.sample(10)"
   ]
  },
  {
   "cell_type": "code",
   "execution_count": null,
   "metadata": {},
   "outputs": [],
   "source": [
    "# Filter the tweets that mention @AIRTEL_KE since those are the tweets with questions and queries.\n",
    "airtel_mention_df = tweets_df[tweets_df[\"Mentions\"].str.contains(\"@AIRTEL_KE\") | tweets_df[\"Mentions\"].str.contains(\"@airtel_ke\")]\n",
    "print(airtel_mention_df.shape)\n",
    "\n",
    "# To avoid having to repeat the querying process again, we save the results we got\n",
    "airtel_mention_df.to_csv(path_or_buf=\"AirtelMentions1.csv\")\n",
    "airtel_mention_df.sample(20)"
   ]
  },
  {
   "cell_type": "code",
   "execution_count": null,
   "metadata": {},
   "outputs": [],
   "source": [
    "# Get the list we already created from the earlier query.\n",
    "airtel_mention_df = pd.read_csv(\"AirtelMentions1.csv\")\n",
    "airtel_mention_df.drop(columns=['Unnamed: 0'], inplace=True)\n",
    "airtel_mention_df.sample(20)"
   ]
  },
  {
   "cell_type": "code",
   "execution_count": null,
   "metadata": {},
   "outputs": [],
   "source": [
    "#This searches for replies for tweet by taking the name of the user and the tweet ID and looks for all the tweets after that tweet ID with with the username\n",
    "\n",
    "# airtel_replies=[]\n",
    "# for x, Id in enumerate(airtel_mention_df[\"ID\"]):\n",
    "#     tweet_id = Id\n",
    "#     name = airtel_mention_df.Username.iloc[x]\n",
    "#     replies = []\n",
    "#     print(x)\n",
    "#     for tweet in tp.Cursor(api.search,q='to:'+name, since_id = tweet_id, timeout=999999).items():\n",
    "\n",
    "#         if hasattr(tweet, 'in_reply_to_status_id_str'):\n",
    "#             if (tweet.in_reply_to_status_id_str==tweet_id):\n",
    "#                 replies.append(tweet)\n",
    "#             for tweet in replies:\n",
    "#                 row = {'ID':tweet_id, 'Date': airtel_mention_df.Date.iloc[x], 'Username':name, \n",
    "#                         'Post': airtel_mention_df.Post.iloc[x],  'Replier': tweet.user.screen_name, \n",
    "#                         'Mentions': airtel_mention_df.Mentions.iloc[x],  'Hashtags': airtel_mention_df.Hashtags.iloc[x],  \n",
    "#                         'Reply_date':tweet.created_at, 'Reply': tweet.text.replace('\\n', ' '), \n",
    "#                         'Reply_mentions':' '.join(x['screen_name'] for x in tweet.entities['user_mentions']), \n",
    "#                         'Reply_Hashtags':' '.join(x['text'] for x in tweet.entities['hashtags'])}\n",
    "#                 airtel_replies.append(row)\n"
   ]
  },
  {
   "cell_type": "code",
   "execution_count": null,
   "metadata": {},
   "outputs": [],
   "source": [
    "\"\"\"This function finds the tweets by AIRTEL_KE since the tweet \n",
    "    of the customer asking a question tweeted the question\n",
    "    All those tweets are then added to a list of tweets \n",
    "    avoiding creation of duplicates\"\"\"\n",
    "\n",
    "def retriver(name, tweet_id,tweetsData):\n",
    "    try:\n",
    "        tweet_data = tp.Cursor(api.user_timeline,id='AIRTEL_KE', since_id = tweet_id, timeout=999999).items()\n",
    "    except:\n",
    "        print('failed to get data')\n",
    "        tweet_data = []\n",
    "    for tweet in tweet_data:\n",
    "        if tweet not in tweetsData:\n",
    "            tweetsData.append(tweet)\n",
    "    \n",
    "    return tweetsData"
   ]
  },
  {
   "cell_type": "code",
   "execution_count": null,
   "metadata": {},
   "outputs": [],
   "source": [
    "# Testing our function to make sure it returns what we expect\n",
    "# Data_tweets=[]\n",
    "# ts = retriver('ntvkenya', '1294919890839773184', Data_tweets)\n",
    "# ts[0].id"
   ]
  },
  {
   "cell_type": "code",
   "execution_count": null,
   "metadata": {},
   "outputs": [],
   "source": [
    "def get_replies(Data_tweets,df, tweet_id):\n",
    "    airtel_replies=[]\n",
    "    replies = []\n",
    "    for tweet in Data_tweets:\n",
    "#         print('In list')\n",
    "        if hasattr(tweet, 'in_reply_to_status_id_str'):\n",
    "            if (tweet.in_reply_to_status_id_str==tweet_id):\n",
    "                replies.append(tweet)\n",
    "                print('good to go ID')\n",
    "    if len(replies) > 0:\n",
    "        for tweet in replies:\n",
    "            print('good to go')\n",
    "            row = {'ID':tweet_id, 'Date': df.Date.iloc[x], 'Username':name, \n",
    "                    'Post': df.Post.iloc[x],  'Replier': tweet.user.screen_name, \n",
    "                    'Mentions': df.Mentions.iloc[x],  'Hashtags': df.Hashtags.iloc[x],  \n",
    "                    'Reply_date':tweet.created_at, 'Reply': tweet.text.replace('\\n', ' '), \n",
    "                    'Reply_mentions':' '.join(x['screen_name'] for x in tweet.entities['user_mentions']), \n",
    "                    'Reply_Hashtags':' '.join(x['text'] for x in tweet.entities['hashtags'])}\n",
    "            airtel_replies.append(row)\n",
    "    return airtel_replies"
   ]
  },
  {
   "cell_type": "code",
   "execution_count": null,
   "metadata": {},
   "outputs": [],
   "source": [
    "repliesData = []\n",
    "sort_df = airtel_mention_df.sort_values(by = 'ID')\n",
    "Data_tweets=[]"
   ]
  },
  {
   "cell_type": "code",
   "execution_count": null,
   "metadata": {},
   "outputs": [],
   "source": [
    "# Loop though the sorted dataframe to get replies for each tweet starting with the oldest\n",
    "for x, Id in enumerate(sort_df[\"ID\"]):\n",
    "    tweet_id = Id\n",
    "    name = sort_df.Username.iloc[x]\n",
    "    print(x)\n",
    "    present = False\n",
    "    print(len(Data_tweets))\n",
    "    for tw in Data_tweets:\n",
    "        if tw.in_reply_to_status_id_str == tweet_id:\n",
    "            present = True\n",
    "    print(present)\n",
    "    if present == True:\n",
    "        print('good')\n",
    "        try:\n",
    "            repliesData.extend(get_replies(Data_tweets, sort_df, tweet_id))\n",
    "        except:\n",
    "            print('failed')\n",
    "    else:\n",
    "        try:\n",
    "            Data_tweets= retriver(name, tweet_id, Data_tweets)\n",
    "            print(\"Run retriver\")\n",
    "            repliesData.extend(get_replies(Data_tweets, sort_df, tweet_id))\n",
    "        except:\n",
    "            print('failed')\n",
    "#     Save each data scrapped to prevent loss in case of the code crashing        \n",
    "    airtelData_df = pd.DataFrame(repliesData)\n",
    "\n",
    "    airtelData_df.to_csv(path_or_buf=\"AirtelData.csv\")"
   ]
  },
  {
   "cell_type": "code",
   "execution_count": null,
   "metadata": {},
   "outputs": [],
   "source": [
    "airtelData_df = pd.DataFrame(repliesData)\n",
    "\n",
    "airtelData_df.to_csv(path_or_buf=\"AirtelData.csv\")"
   ]
  },
  {
   "cell_type": "code",
   "execution_count": null,
   "metadata": {},
   "outputs": [],
   "source": [
    "airtelData_df.sample(20)"
   ]
  },
  {
   "cell_type": "code",
   "execution_count": null,
   "metadata": {},
   "outputs": [],
   "source": [
    "# test = api.get_status('1243081255102615552')\n",
    "# test.entities"
   ]
  },
  {
   "cell_type": "code",
   "execution_count": 23,
   "metadata": {},
   "outputs": [
    {
     "ename": "TypeError",
     "evalue": "'Tweet' object is not iterable",
     "output_type": "error",
     "traceback": [
      "\u001b[1;31m---------------------------------------------------------------------------\u001b[0m",
      "\u001b[1;31mTypeError\u001b[0m                                 Traceback (most recent call last)",
      "\u001b[1;32m<ipython-input-23-acf48d1e2396>\u001b[0m in \u001b[0;36m<module>\u001b[1;34m\u001b[0m\n\u001b[0;32m      3\u001b[0m \u001b[0mtwts\u001b[0m \u001b[1;33m=\u001b[0m \u001b[0mgot\u001b[0m\u001b[1;33m.\u001b[0m\u001b[0mmanager\u001b[0m\u001b[1;33m.\u001b[0m\u001b[0mTweetManager\u001b[0m\u001b[1;33m.\u001b[0m\u001b[0mgetTweets\u001b[0m\u001b[1;33m(\u001b[0m\u001b[0mtC\u001b[0m\u001b[1;33m)\u001b[0m\u001b[1;33m\u001b[0m\u001b[0m\n\u001b[0;32m      4\u001b[0m \u001b[1;32mfor\u001b[0m \u001b[0mtwe\u001b[0m \u001b[1;32min\u001b[0m \u001b[0mtwts\u001b[0m\u001b[1;33m:\u001b[0m\u001b[1;33m\u001b[0m\u001b[0m\n\u001b[1;32m----> 5\u001b[1;33m     \u001b[1;32mfor\u001b[0m \u001b[0mtw\u001b[0m \u001b[1;32min\u001b[0m \u001b[0mtwe\u001b[0m\u001b[1;33m:\u001b[0m\u001b[1;33m\u001b[0m\u001b[0m\n\u001b[0m\u001b[0;32m      6\u001b[0m         \u001b[0mprint\u001b[0m\u001b[1;33m(\u001b[0m\u001b[0mtw\u001b[0m\u001b[1;33m)\u001b[0m\u001b[1;33m\u001b[0m\u001b[0m\n",
      "\u001b[1;31mTypeError\u001b[0m: 'Tweet' object is not iterable"
     ]
    }
   ],
   "source": [
    "tC = got.manager.TweetCriteria().setUsername(\"barackobama\").setSince(\"2015-09-10\")\\\n",
    "                                            .setMaxTweets(1)\n",
    "twts = got.manager.TweetManager.getTweets(tC)\n",
    "for twe in twts:\n",
    "    for tw in twe:\n",
    "        print(tw)"
   ]
  },
  {
   "cell_type": "code",
   "execution_count": 29,
   "metadata": {},
   "outputs": [
    {
     "name": "stdout",
     "output_type": "stream",
     "text": [
      "199993    1169605566479687680\n",
      "Name: ID, dtype: object\n",
      "3    1295448699070554119\n",
      "Name: ID, dtype: object\n"
     ]
    }
   ],
   "source": [
    "print(sort_df.ID.head(1))\n",
    "print(sort_df.ID.tail(1))"
   ]
  },
  {
   "cell_type": "code",
   "execution_count": 25,
   "metadata": {},
   "outputs": [
    {
     "data": {
      "text/plain": [
       "Status(_api=<tweepy.api.API object at 0x0000022441941B00>, _json={'created_at': 'Thu Sep 05 13:37:51 +0000 2019', 'id': 1169605566479687680, 'id_str': '1169605566479687680', 'text': 'Please clarify this because I have visited your shop in Narok and they are saying the lines are not working… https://t.co/PNmw0GfW7G', 'truncated': True, 'entities': {'hashtags': [], 'symbols': [], 'user_mentions': [], 'urls': [{'url': 'https://t.co/PNmw0GfW7G', 'expanded_url': 'https://twitter.com/i/web/status/1169605566479687680', 'display_url': 'twitter.com/i/web/status/1…', 'indices': [109, 132]}]}, 'source': '<a href=\"http://twitter.com/download/android\" rel=\"nofollow\">Twitter for Android</a>', 'in_reply_to_status_id': None, 'in_reply_to_status_id_str': None, 'in_reply_to_user_id': None, 'in_reply_to_user_id_str': None, 'in_reply_to_screen_name': None, 'user': {'id': 3026331367, 'id_str': '3026331367', 'name': 'Ronoh K Clinton 🇰🇪', 'screen_name': 'RonohClinton', 'location': 'Kenya', 'description': 'Digital Marketer, Entrepreneur, For Business inquiries contact 0100423808\\nEmail: ronohkclinton@gmail.com', 'url': None, 'entities': {'description': {'urls': []}}, 'protected': False, 'followers_count': 58797, 'friends_count': 32562, 'listed_count': 17, 'created_at': 'Wed Feb 18 15:20:20 +0000 2015', 'favourites_count': 755, 'utc_offset': None, 'time_zone': None, 'geo_enabled': True, 'verified': False, 'statuses_count': 7647, 'lang': None, 'contributors_enabled': False, 'is_translator': False, 'is_translation_enabled': False, 'profile_background_color': 'C0DEED', 'profile_background_image_url': 'http://abs.twimg.com/images/themes/theme1/bg.png', 'profile_background_image_url_https': 'https://abs.twimg.com/images/themes/theme1/bg.png', 'profile_background_tile': False, 'profile_image_url': 'http://pbs.twimg.com/profile_images/1293999269339332608/0ka6uIL-_normal.jpg', 'profile_image_url_https': 'https://pbs.twimg.com/profile_images/1293999269339332608/0ka6uIL-_normal.jpg', 'profile_banner_url': 'https://pbs.twimg.com/profile_banners/3026331367/1596098969', 'profile_link_color': '1DA1F2', 'profile_sidebar_border_color': 'C0DEED', 'profile_sidebar_fill_color': 'DDEEF6', 'profile_text_color': '333333', 'profile_use_background_image': True, 'has_extended_profile': True, 'default_profile': True, 'default_profile_image': False, 'following': False, 'follow_request_sent': False, 'notifications': False, 'translator_type': 'none'}, 'geo': None, 'coordinates': None, 'place': None, 'contributors': None, 'is_quote_status': True, 'quoted_status_id': 1168494581559615488, 'quoted_status_id_str': '1168494581559615488', 'quoted_status': {'created_at': 'Mon Sep 02 12:03:12 +0000 2019', 'id': 1168494581559615488, 'id_str': '1168494581559615488', 'text': 'Have you been counted among those with the new Airtel number series?\\nVisit any Airtel shop to customize a prepaid o… https://t.co/FEHHeki6sI', 'truncated': True, 'entities': {'hashtags': [], 'symbols': [], 'user_mentions': [], 'urls': [{'url': 'https://t.co/FEHHeki6sI', 'expanded_url': 'https://twitter.com/i/web/status/1168494581559615488', 'display_url': 'twitter.com/i/web/status/1…', 'indices': [117, 140]}]}, 'source': '<a href=\"http://www.socialbakers.com/\" rel=\"nofollow\">Socialbakers</a>', 'in_reply_to_status_id': None, 'in_reply_to_status_id_str': None, 'in_reply_to_user_id': None, 'in_reply_to_user_id_str': None, 'in_reply_to_screen_name': None, 'user': {'id': 191765987, 'id_str': '191765987', 'name': 'Airtel Kenya', 'screen_name': 'AIRTEL_KE', 'location': 'Kenya', 'description': 'Get in touch. Speak from the heart. Seal the deal.\\n\\nLike us on Facebook: \\nhttps://t.co/IUx81e4dMP  \\n\\nPhone: *100#', 'url': 'https://t.co/uBs8x5assX', 'entities': {'url': {'urls': [{'url': 'https://t.co/uBs8x5assX', 'expanded_url': 'https://www.airtelkenya.com/', 'display_url': 'airtelkenya.com', 'indices': [0, 23]}]}, 'description': {'urls': [{'url': 'https://t.co/IUx81e4dMP', 'expanded_url': 'https://www.facebook.com/AirtelKe', 'display_url': 'facebook.com/AirtelKe', 'indices': [74, 97]}]}}, 'protected': False, 'followers_count': 442079, 'friends_count': 8646, 'listed_count': 183, 'created_at': 'Fri Sep 17 08:50:27 +0000 2010', 'favourites_count': 349, 'utc_offset': None, 'time_zone': None, 'geo_enabled': True, 'verified': True, 'statuses_count': 922952, 'lang': None, 'contributors_enabled': False, 'is_translator': False, 'is_translation_enabled': False, 'profile_background_color': 'ABB8C2', 'profile_background_image_url': 'http://abs.twimg.com/images/themes/theme1/bg.png', 'profile_background_image_url_https': 'https://abs.twimg.com/images/themes/theme1/bg.png', 'profile_background_tile': False, 'profile_image_url': 'http://pbs.twimg.com/profile_images/783660189555814400/sYGR-OjL_normal.jpg', 'profile_image_url_https': 'https://pbs.twimg.com/profile_images/783660189555814400/sYGR-OjL_normal.jpg', 'profile_banner_url': 'https://pbs.twimg.com/profile_banners/191765987/1587464485', 'profile_link_color': 'B30000', 'profile_sidebar_border_color': '000000', 'profile_sidebar_fill_color': 'DDEEF6', 'profile_text_color': 'F2111C', 'profile_use_background_image': True, 'has_extended_profile': False, 'default_profile': False, 'default_profile_image': False, 'following': False, 'follow_request_sent': False, 'notifications': False, 'translator_type': 'none'}, 'geo': None, 'coordinates': None, 'place': None, 'contributors': None, 'is_quote_status': False, 'retweet_count': 27, 'favorite_count': 287, 'favorited': False, 'retweeted': False, 'possibly_sensitive': False, 'possibly_sensitive_appealable': False, 'lang': 'en'}, 'retweet_count': 0, 'favorite_count': 0, 'favorited': False, 'retweeted': False, 'possibly_sensitive': False, 'possibly_sensitive_appealable': False, 'lang': 'en'}, created_at=datetime.datetime(2019, 9, 5, 13, 37, 51), id=1169605566479687680, id_str='1169605566479687680', text='Please clarify this because I have visited your shop in Narok and they are saying the lines are not working… https://t.co/PNmw0GfW7G', truncated=True, entities={'hashtags': [], 'symbols': [], 'user_mentions': [], 'urls': [{'url': 'https://t.co/PNmw0GfW7G', 'expanded_url': 'https://twitter.com/i/web/status/1169605566479687680', 'display_url': 'twitter.com/i/web/status/1…', 'indices': [109, 132]}]}, source='Twitter for Android', source_url='http://twitter.com/download/android', in_reply_to_status_id=None, in_reply_to_status_id_str=None, in_reply_to_user_id=None, in_reply_to_user_id_str=None, in_reply_to_screen_name=None, author=User(_api=<tweepy.api.API object at 0x0000022441941B00>, _json={'id': 3026331367, 'id_str': '3026331367', 'name': 'Ronoh K Clinton 🇰🇪', 'screen_name': 'RonohClinton', 'location': 'Kenya', 'description': 'Digital Marketer, Entrepreneur, For Business inquiries contact 0100423808\\nEmail: ronohkclinton@gmail.com', 'url': None, 'entities': {'description': {'urls': []}}, 'protected': False, 'followers_count': 58797, 'friends_count': 32562, 'listed_count': 17, 'created_at': 'Wed Feb 18 15:20:20 +0000 2015', 'favourites_count': 755, 'utc_offset': None, 'time_zone': None, 'geo_enabled': True, 'verified': False, 'statuses_count': 7647, 'lang': None, 'contributors_enabled': False, 'is_translator': False, 'is_translation_enabled': False, 'profile_background_color': 'C0DEED', 'profile_background_image_url': 'http://abs.twimg.com/images/themes/theme1/bg.png', 'profile_background_image_url_https': 'https://abs.twimg.com/images/themes/theme1/bg.png', 'profile_background_tile': False, 'profile_image_url': 'http://pbs.twimg.com/profile_images/1293999269339332608/0ka6uIL-_normal.jpg', 'profile_image_url_https': 'https://pbs.twimg.com/profile_images/1293999269339332608/0ka6uIL-_normal.jpg', 'profile_banner_url': 'https://pbs.twimg.com/profile_banners/3026331367/1596098969', 'profile_link_color': '1DA1F2', 'profile_sidebar_border_color': 'C0DEED', 'profile_sidebar_fill_color': 'DDEEF6', 'profile_text_color': '333333', 'profile_use_background_image': True, 'has_extended_profile': True, 'default_profile': True, 'default_profile_image': False, 'following': False, 'follow_request_sent': False, 'notifications': False, 'translator_type': 'none'}, id=3026331367, id_str='3026331367', name='Ronoh K Clinton 🇰🇪', screen_name='RonohClinton', location='Kenya', description='Digital Marketer, Entrepreneur, For Business inquiries contact 0100423808\\nEmail: ronohkclinton@gmail.com', url=None, entities={'description': {'urls': []}}, protected=False, followers_count=58797, friends_count=32562, listed_count=17, created_at=datetime.datetime(2015, 2, 18, 15, 20, 20), favourites_count=755, utc_offset=None, time_zone=None, geo_enabled=True, verified=False, statuses_count=7647, lang=None, contributors_enabled=False, is_translator=False, is_translation_enabled=False, profile_background_color='C0DEED', profile_background_image_url='http://abs.twimg.com/images/themes/theme1/bg.png', profile_background_image_url_https='https://abs.twimg.com/images/themes/theme1/bg.png', profile_background_tile=False, profile_image_url='http://pbs.twimg.com/profile_images/1293999269339332608/0ka6uIL-_normal.jpg', profile_image_url_https='https://pbs.twimg.com/profile_images/1293999269339332608/0ka6uIL-_normal.jpg', profile_banner_url='https://pbs.twimg.com/profile_banners/3026331367/1596098969', profile_link_color='1DA1F2', profile_sidebar_border_color='C0DEED', profile_sidebar_fill_color='DDEEF6', profile_text_color='333333', profile_use_background_image=True, has_extended_profile=True, default_profile=True, default_profile_image=False, following=False, follow_request_sent=False, notifications=False, translator_type='none'), user=User(_api=<tweepy.api.API object at 0x0000022441941B00>, _json={'id': 3026331367, 'id_str': '3026331367', 'name': 'Ronoh K Clinton 🇰🇪', 'screen_name': 'RonohClinton', 'location': 'Kenya', 'description': 'Digital Marketer, Entrepreneur, For Business inquiries contact 0100423808\\nEmail: ronohkclinton@gmail.com', 'url': None, 'entities': {'description': {'urls': []}}, 'protected': False, 'followers_count': 58797, 'friends_count': 32562, 'listed_count': 17, 'created_at': 'Wed Feb 18 15:20:20 +0000 2015', 'favourites_count': 755, 'utc_offset': None, 'time_zone': None, 'geo_enabled': True, 'verified': False, 'statuses_count': 7647, 'lang': None, 'contributors_enabled': False, 'is_translator': False, 'is_translation_enabled': False, 'profile_background_color': 'C0DEED', 'profile_background_image_url': 'http://abs.twimg.com/images/themes/theme1/bg.png', 'profile_background_image_url_https': 'https://abs.twimg.com/images/themes/theme1/bg.png', 'profile_background_tile': False, 'profile_image_url': 'http://pbs.twimg.com/profile_images/1293999269339332608/0ka6uIL-_normal.jpg', 'profile_image_url_https': 'https://pbs.twimg.com/profile_images/1293999269339332608/0ka6uIL-_normal.jpg', 'profile_banner_url': 'https://pbs.twimg.com/profile_banners/3026331367/1596098969', 'profile_link_color': '1DA1F2', 'profile_sidebar_border_color': 'C0DEED', 'profile_sidebar_fill_color': 'DDEEF6', 'profile_text_color': '333333', 'profile_use_background_image': True, 'has_extended_profile': True, 'default_profile': True, 'default_profile_image': False, 'following': False, 'follow_request_sent': False, 'notifications': False, 'translator_type': 'none'}, id=3026331367, id_str='3026331367', name='Ronoh K Clinton 🇰🇪', screen_name='RonohClinton', location='Kenya', description='Digital Marketer, Entrepreneur, For Business inquiries contact 0100423808\\nEmail: ronohkclinton@gmail.com', url=None, entities={'description': {'urls': []}}, protected=False, followers_count=58797, friends_count=32562, listed_count=17, created_at=datetime.datetime(2015, 2, 18, 15, 20, 20), favourites_count=755, utc_offset=None, time_zone=None, geo_enabled=True, verified=False, statuses_count=7647, lang=None, contributors_enabled=False, is_translator=False, is_translation_enabled=False, profile_background_color='C0DEED', profile_background_image_url='http://abs.twimg.com/images/themes/theme1/bg.png', profile_background_image_url_https='https://abs.twimg.com/images/themes/theme1/bg.png', profile_background_tile=False, profile_image_url='http://pbs.twimg.com/profile_images/1293999269339332608/0ka6uIL-_normal.jpg', profile_image_url_https='https://pbs.twimg.com/profile_images/1293999269339332608/0ka6uIL-_normal.jpg', profile_banner_url='https://pbs.twimg.com/profile_banners/3026331367/1596098969', profile_link_color='1DA1F2', profile_sidebar_border_color='C0DEED', profile_sidebar_fill_color='DDEEF6', profile_text_color='333333', profile_use_background_image=True, has_extended_profile=True, default_profile=True, default_profile_image=False, following=False, follow_request_sent=False, notifications=False, translator_type='none'), geo=None, coordinates=None, place=None, contributors=None, is_quote_status=True, quoted_status_id=1168494581559615488, quoted_status_id_str='1168494581559615488', quoted_status=Status(_api=<tweepy.api.API object at 0x0000022441941B00>, _json={'created_at': 'Mon Sep 02 12:03:12 +0000 2019', 'id': 1168494581559615488, 'id_str': '1168494581559615488', 'text': 'Have you been counted among those with the new Airtel number series?\\nVisit any Airtel shop to customize a prepaid o… https://t.co/FEHHeki6sI', 'truncated': True, 'entities': {'hashtags': [], 'symbols': [], 'user_mentions': [], 'urls': [{'url': 'https://t.co/FEHHeki6sI', 'expanded_url': 'https://twitter.com/i/web/status/1168494581559615488', 'display_url': 'twitter.com/i/web/status/1…', 'indices': [117, 140]}]}, 'source': '<a href=\"http://www.socialbakers.com/\" rel=\"nofollow\">Socialbakers</a>', 'in_reply_to_status_id': None, 'in_reply_to_status_id_str': None, 'in_reply_to_user_id': None, 'in_reply_to_user_id_str': None, 'in_reply_to_screen_name': None, 'user': {'id': 191765987, 'id_str': '191765987', 'name': 'Airtel Kenya', 'screen_name': 'AIRTEL_KE', 'location': 'Kenya', 'description': 'Get in touch. Speak from the heart. Seal the deal.\\n\\nLike us on Facebook: \\nhttps://t.co/IUx81e4dMP  \\n\\nPhone: *100#', 'url': 'https://t.co/uBs8x5assX', 'entities': {'url': {'urls': [{'url': 'https://t.co/uBs8x5assX', 'expanded_url': 'https://www.airtelkenya.com/', 'display_url': 'airtelkenya.com', 'indices': [0, 23]}]}, 'description': {'urls': [{'url': 'https://t.co/IUx81e4dMP', 'expanded_url': 'https://www.facebook.com/AirtelKe', 'display_url': 'facebook.com/AirtelKe', 'indices': [74, 97]}]}}, 'protected': False, 'followers_count': 442079, 'friends_count': 8646, 'listed_count': 183, 'created_at': 'Fri Sep 17 08:50:27 +0000 2010', 'favourites_count': 349, 'utc_offset': None, 'time_zone': None, 'geo_enabled': True, 'verified': True, 'statuses_count': 922952, 'lang': None, 'contributors_enabled': False, 'is_translator': False, 'is_translation_enabled': False, 'profile_background_color': 'ABB8C2', 'profile_background_image_url': 'http://abs.twimg.com/images/themes/theme1/bg.png', 'profile_background_image_url_https': 'https://abs.twimg.com/images/themes/theme1/bg.png', 'profile_background_tile': False, 'profile_image_url': 'http://pbs.twimg.com/profile_images/783660189555814400/sYGR-OjL_normal.jpg', 'profile_image_url_https': 'https://pbs.twimg.com/profile_images/783660189555814400/sYGR-OjL_normal.jpg', 'profile_banner_url': 'https://pbs.twimg.com/profile_banners/191765987/1587464485', 'profile_link_color': 'B30000', 'profile_sidebar_border_color': '000000', 'profile_sidebar_fill_color': 'DDEEF6', 'profile_text_color': 'F2111C', 'profile_use_background_image': True, 'has_extended_profile': False, 'default_profile': False, 'default_profile_image': False, 'following': False, 'follow_request_sent': False, 'notifications': False, 'translator_type': 'none'}, 'geo': None, 'coordinates': None, 'place': None, 'contributors': None, 'is_quote_status': False, 'retweet_count': 27, 'favorite_count': 287, 'favorited': False, 'retweeted': False, 'possibly_sensitive': False, 'possibly_sensitive_appealable': False, 'lang': 'en'}, created_at=datetime.datetime(2019, 9, 2, 12, 3, 12), id=1168494581559615488, id_str='1168494581559615488', text='Have you been counted among those with the new Airtel number series?\\nVisit any Airtel shop to customize a prepaid o… https://t.co/FEHHeki6sI', truncated=True, entities={'hashtags': [], 'symbols': [], 'user_mentions': [], 'urls': [{'url': 'https://t.co/FEHHeki6sI', 'expanded_url': 'https://twitter.com/i/web/status/1168494581559615488', 'display_url': 'twitter.com/i/web/status/1…', 'indices': [117, 140]}]}, source='Socialbakers', source_url='http://www.socialbakers.com/', in_reply_to_status_id=None, in_reply_to_status_id_str=None, in_reply_to_user_id=None, in_reply_to_user_id_str=None, in_reply_to_screen_name=None, author=User(_api=<tweepy.api.API object at 0x0000022441941B00>, _json={'id': 191765987, 'id_str': '191765987', 'name': 'Airtel Kenya', 'screen_name': 'AIRTEL_KE', 'location': 'Kenya', 'description': 'Get in touch. Speak from the heart. Seal the deal.\\n\\nLike us on Facebook: \\nhttps://t.co/IUx81e4dMP  \\n\\nPhone: *100#', 'url': 'https://t.co/uBs8x5assX', 'entities': {'url': {'urls': [{'url': 'https://t.co/uBs8x5assX', 'expanded_url': 'https://www.airtelkenya.com/', 'display_url': 'airtelkenya.com', 'indices': [0, 23]}]}, 'description': {'urls': [{'url': 'https://t.co/IUx81e4dMP', 'expanded_url': 'https://www.facebook.com/AirtelKe', 'display_url': 'facebook.com/AirtelKe', 'indices': [74, 97]}]}}, 'protected': False, 'followers_count': 442079, 'friends_count': 8646, 'listed_count': 183, 'created_at': 'Fri Sep 17 08:50:27 +0000 2010', 'favourites_count': 349, 'utc_offset': None, 'time_zone': None, 'geo_enabled': True, 'verified': True, 'statuses_count': 922952, 'lang': None, 'contributors_enabled': False, 'is_translator': False, 'is_translation_enabled': False, 'profile_background_color': 'ABB8C2', 'profile_background_image_url': 'http://abs.twimg.com/images/themes/theme1/bg.png', 'profile_background_image_url_https': 'https://abs.twimg.com/images/themes/theme1/bg.png', 'profile_background_tile': False, 'profile_image_url': 'http://pbs.twimg.com/profile_images/783660189555814400/sYGR-OjL_normal.jpg', 'profile_image_url_https': 'https://pbs.twimg.com/profile_images/783660189555814400/sYGR-OjL_normal.jpg', 'profile_banner_url': 'https://pbs.twimg.com/profile_banners/191765987/1587464485', 'profile_link_color': 'B30000', 'profile_sidebar_border_color': '000000', 'profile_sidebar_fill_color': 'DDEEF6', 'profile_text_color': 'F2111C', 'profile_use_background_image': True, 'has_extended_profile': False, 'default_profile': False, 'default_profile_image': False, 'following': False, 'follow_request_sent': False, 'notifications': False, 'translator_type': 'none'}, id=191765987, id_str='191765987', name='Airtel Kenya', screen_name='AIRTEL_KE', location='Kenya', description='Get in touch. Speak from the heart. Seal the deal.\\n\\nLike us on Facebook: \\nhttps://t.co/IUx81e4dMP  \\n\\nPhone: *100#', url='https://t.co/uBs8x5assX', entities={'url': {'urls': [{'url': 'https://t.co/uBs8x5assX', 'expanded_url': 'https://www.airtelkenya.com/', 'display_url': 'airtelkenya.com', 'indices': [0, 23]}]}, 'description': {'urls': [{'url': 'https://t.co/IUx81e4dMP', 'expanded_url': 'https://www.facebook.com/AirtelKe', 'display_url': 'facebook.com/AirtelKe', 'indices': [74, 97]}]}}, protected=False, followers_count=442079, friends_count=8646, listed_count=183, created_at=datetime.datetime(2010, 9, 17, 8, 50, 27), favourites_count=349, utc_offset=None, time_zone=None, geo_enabled=True, verified=True, statuses_count=922952, lang=None, contributors_enabled=False, is_translator=False, is_translation_enabled=False, profile_background_color='ABB8C2', profile_background_image_url='http://abs.twimg.com/images/themes/theme1/bg.png', profile_background_image_url_https='https://abs.twimg.com/images/themes/theme1/bg.png', profile_background_tile=False, profile_image_url='http://pbs.twimg.com/profile_images/783660189555814400/sYGR-OjL_normal.jpg', profile_image_url_https='https://pbs.twimg.com/profile_images/783660189555814400/sYGR-OjL_normal.jpg', profile_banner_url='https://pbs.twimg.com/profile_banners/191765987/1587464485', profile_link_color='B30000', profile_sidebar_border_color='000000', profile_sidebar_fill_color='DDEEF6', profile_text_color='F2111C', profile_use_background_image=True, has_extended_profile=False, default_profile=False, default_profile_image=False, following=False, follow_request_sent=False, notifications=False, translator_type='none'), user=User(_api=<tweepy.api.API object at 0x0000022441941B00>, _json={'id': 191765987, 'id_str': '191765987', 'name': 'Airtel Kenya', 'screen_name': 'AIRTEL_KE', 'location': 'Kenya', 'description': 'Get in touch. Speak from the heart. Seal the deal.\\n\\nLike us on Facebook: \\nhttps://t.co/IUx81e4dMP  \\n\\nPhone: *100#', 'url': 'https://t.co/uBs8x5assX', 'entities': {'url': {'urls': [{'url': 'https://t.co/uBs8x5assX', 'expanded_url': 'https://www.airtelkenya.com/', 'display_url': 'airtelkenya.com', 'indices': [0, 23]}]}, 'description': {'urls': [{'url': 'https://t.co/IUx81e4dMP', 'expanded_url': 'https://www.facebook.com/AirtelKe', 'display_url': 'facebook.com/AirtelKe', 'indices': [74, 97]}]}}, 'protected': False, 'followers_count': 442079, 'friends_count': 8646, 'listed_count': 183, 'created_at': 'Fri Sep 17 08:50:27 +0000 2010', 'favourites_count': 349, 'utc_offset': None, 'time_zone': None, 'geo_enabled': True, 'verified': True, 'statuses_count': 922952, 'lang': None, 'contributors_enabled': False, 'is_translator': False, 'is_translation_enabled': False, 'profile_background_color': 'ABB8C2', 'profile_background_image_url': 'http://abs.twimg.com/images/themes/theme1/bg.png', 'profile_background_image_url_https': 'https://abs.twimg.com/images/themes/theme1/bg.png', 'profile_background_tile': False, 'profile_image_url': 'http://pbs.twimg.com/profile_images/783660189555814400/sYGR-OjL_normal.jpg', 'profile_image_url_https': 'https://pbs.twimg.com/profile_images/783660189555814400/sYGR-OjL_normal.jpg', 'profile_banner_url': 'https://pbs.twimg.com/profile_banners/191765987/1587464485', 'profile_link_color': 'B30000', 'profile_sidebar_border_color': '000000', 'profile_sidebar_fill_color': 'DDEEF6', 'profile_text_color': 'F2111C', 'profile_use_background_image': True, 'has_extended_profile': False, 'default_profile': False, 'default_profile_image': False, 'following': False, 'follow_request_sent': False, 'notifications': False, 'translator_type': 'none'}, id=191765987, id_str='191765987', name='Airtel Kenya', screen_name='AIRTEL_KE', location='Kenya', description='Get in touch. Speak from the heart. Seal the deal.\\n\\nLike us on Facebook: \\nhttps://t.co/IUx81e4dMP  \\n\\nPhone: *100#', url='https://t.co/uBs8x5assX', entities={'url': {'urls': [{'url': 'https://t.co/uBs8x5assX', 'expanded_url': 'https://www.airtelkenya.com/', 'display_url': 'airtelkenya.com', 'indices': [0, 23]}]}, 'description': {'urls': [{'url': 'https://t.co/IUx81e4dMP', 'expanded_url': 'https://www.facebook.com/AirtelKe', 'display_url': 'facebook.com/AirtelKe', 'indices': [74, 97]}]}}, protected=False, followers_count=442079, friends_count=8646, listed_count=183, created_at=datetime.datetime(2010, 9, 17, 8, 50, 27), favourites_count=349, utc_offset=None, time_zone=None, geo_enabled=True, verified=True, statuses_count=922952, lang=None, contributors_enabled=False, is_translator=False, is_translation_enabled=False, profile_background_color='ABB8C2', profile_background_image_url='http://abs.twimg.com/images/themes/theme1/bg.png', profile_background_image_url_https='https://abs.twimg.com/images/themes/theme1/bg.png', profile_background_tile=False, profile_image_url='http://pbs.twimg.com/profile_images/783660189555814400/sYGR-OjL_normal.jpg', profile_image_url_https='https://pbs.twimg.com/profile_images/783660189555814400/sYGR-OjL_normal.jpg', profile_banner_url='https://pbs.twimg.com/profile_banners/191765987/1587464485', profile_link_color='B30000', profile_sidebar_border_color='000000', profile_sidebar_fill_color='DDEEF6', profile_text_color='F2111C', profile_use_background_image=True, has_extended_profile=False, default_profile=False, default_profile_image=False, following=False, follow_request_sent=False, notifications=False, translator_type='none'), geo=None, coordinates=None, place=None, contributors=None, is_quote_status=False, retweet_count=27, favorite_count=287, favorited=False, retweeted=False, possibly_sensitive=False, possibly_sensitive_appealable=False, lang='en'), retweet_count=0, favorite_count=0, favorited=False, retweeted=False, possibly_sensitive=False, possibly_sensitive_appealable=False, lang='en')"
      ]
     },
     "execution_count": 25,
     "metadata": {},
     "output_type": "execute_result"
    }
   ],
   "source": [
    "# A view of how a tweet object looks and its attributes\n",
    "api.get_status('1169605566479687680')"
   ]
  },
  {
   "cell_type": "code",
   "execution_count": 30,
   "metadata": {},
   "outputs": [
    {
     "data": {
      "text/plain": [
       "125843132590866439"
      ]
     },
     "execution_count": 30,
     "metadata": {},
     "output_type": "execute_result"
    }
   ],
   "source": [
    "1295448699070554119 - 1169605566479687680"
   ]
  },
  {
   "cell_type": "code",
   "execution_count": null,
   "metadata": {},
   "outputs": [],
   "source": [
    "# This is the code I need you to run on a strong and faster machine without any internet fluctuation\n",
    "# This code goes through all tweets posted since the oldest tweet in our list to the last tweet in our tweet\n",
    "status_id_lst = airtel_mention_df[\"ID\"].tolist()\n",
    "dataAirtel = []\n",
    "\n",
    "for x in range(1169605566479687680, 1295448699070554119):\n",
    "    tweet = api.get_status(str(x))\n",
    "    if tweet.in_reply_to_status_id_str in status_id_lst:\n",
    "        df = airtel_mention_df.loc[airtel_mention_df['ID'] == tweet.in_reply_to_status_id_str]\n",
    "        for rw in df.values.tolist():\n",
    "            row = {'ID':rw[0], 'Date': rw[1], 'Username':rw[3], \n",
    "                    'Post': rw[2], 'Mentions': rw[7],  'Hashtags': rw[8],\n",
    "                    'Replier': tweet.user.screen_name,  \n",
    "                    'Reply_date':tweet.created_at, 'Reply': tweet.text.replace('\\n', ' '), \n",
    "                    'Reply_mentions':' '.join(x['screen_name'] for x in tweet.entities['user_mentions']), \n",
    "                    'Reply_Hashtags':' '.join(x['text'] for x in tweet.entities['hashtags'])}\n",
    "            dataAirtel.append(row)\n",
    "    \n"
   ]
  }
 ],
 "metadata": {
  "kernelspec": {
   "display_name": "Python 3",
   "language": "python",
   "name": "python3"
  },
  "language_info": {
   "codemirror_mode": {
    "name": "ipython",
    "version": 3
   },
   "file_extension": ".py",
   "mimetype": "text/x-python",
   "name": "python",
   "nbconvert_exporter": "python",
   "pygments_lexer": "ipython3",
   "version": "3.7.0"
  }
 },
 "nbformat": 4,
 "nbformat_minor": 2
}
